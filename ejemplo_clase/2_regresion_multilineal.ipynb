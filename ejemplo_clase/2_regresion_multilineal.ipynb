{
 "cells": [
  {
   "cell_type": "markdown",
   "metadata": {
    "id": "Ea9CPlvttQda"
   },
   "source": [
    "<a href=\"https://www.inove.com.ar\"><img src=\"https://raw.githubusercontent.com/InoveAlumnos/dataset_analytics_python/master/images/PA%20Banner.png\" width=\"1000\" align=\"center\"></a>\n",
    "\n",
    "\n",
    "# Regresión\n",
    "\n",
    "Ejemplo de regresión multilineal<br>\n",
    "v2.0"
   ]
  },
  {
   "cell_type": "markdown",
   "metadata": {
    "id": "f2sWgu-OX6eE"
   },
   "source": [
    "### Objetivo:\n",
    "*   Comprender el funcionamiento e implementación de la regresión multilineal.\n"
   ]
  },
  {
   "cell_type": "code",
   "execution_count": 1,
   "metadata": {
    "id": "xJN8ND5ctQdc"
   },
   "outputs": [],
   "source": [
    "#Librerias a implementar\n",
    "import os\n",
    "import platform\n",
    "\n",
    "import numpy as np\n",
    "import matplotlib.pyplot as plt\n",
    "import seaborn as sns\n",
    "import pandas as pd"
   ]
  },
  {
   "cell_type": "markdown",
   "metadata": {
    "id": "v-jK-TsQCwW9"
   },
   "source": [
    "# Recolectar datos\n",
    "<img src=\"https://raw.githubusercontent.com/InoveAlumnos/dataset_analytics_python/master/images/Pipeline1.png\" width=\"1000\" align=\"middle\">"
   ]
  },
  {
   "cell_type": "markdown",
   "metadata": {
    "id": "UhGkULGZ2Z__"
   },
   "source": [
    "### Código de descarga del dataset"
   ]
  },
  {
   "cell_type": "code",
   "execution_count": null,
   "metadata": {
    "id": "j9x_YEdTtQeC",
    "tags": []
   },
   "outputs": [],
   "source": [
    "if os.access('propiedades.csv', os.F_OK) is False:\n",
    "    if platform.system() == 'Windows':\n",
    "        !curl https://raw.githubusercontent.com/InoveAlumnos/dataset_analytics_python/master/propiedades.csv > propiedades.csv\n",
    "    else:\n",
    "        !wget propiedades.csv https://raw.githubusercontent.com/InoveAlumnos/dataset_analytics_python/master/propiedades.csv"
   ]
  },
  {
   "cell_type": "markdown",
   "metadata": {
    "id": "Q5I6l8ZCFaZ8"
   },
   "source": [
    "# Procesar datos\n",
    "<img src=\"https://raw.githubusercontent.com/InoveAlumnos/dataset_analytics_python/master/images/Pipeline2.png\" width=\"1000\" align=\"middle\">"
   ]
  },
  {
   "cell_type": "code",
   "execution_count": 2,
   "metadata": {
    "id": "RQgSiWHXFWQD"
   },
   "outputs": [
    {
     "data": {
      "text/html": [
       "<div>\n",
       "<style scoped>\n",
       "    .dataframe tbody tr th:only-of-type {\n",
       "        vertical-align: middle;\n",
       "    }\n",
       "\n",
       "    .dataframe tbody tr th {\n",
       "        vertical-align: top;\n",
       "    }\n",
       "\n",
       "    .dataframe thead th {\n",
       "        text-align: right;\n",
       "    }\n",
       "</style>\n",
       "<table border=\"1\" class=\"dataframe\">\n",
       "  <thead>\n",
       "    <tr style=\"text-align: right;\">\n",
       "      <th></th>\n",
       "      <th>Unnamed: 0.1</th>\n",
       "      <th>Unnamed: 0</th>\n",
       "      <th>latitud</th>\n",
       "      <th>longitud</th>\n",
       "      <th>precio</th>\n",
       "      <th>m2</th>\n",
       "      <th>ambientes</th>\n",
       "    </tr>\n",
       "  </thead>\n",
       "  <tbody>\n",
       "    <tr>\n",
       "      <th>count</th>\n",
       "      <td>1050.000000</td>\n",
       "      <td>1050.000000</td>\n",
       "      <td>1050.000000</td>\n",
       "      <td>1050.000000</td>\n",
       "      <td>1050.000000</td>\n",
       "      <td>1048.000000</td>\n",
       "      <td>1044.000000</td>\n",
       "    </tr>\n",
       "    <tr>\n",
       "      <th>mean</th>\n",
       "      <td>524.500000</td>\n",
       "      <td>524.500000</td>\n",
       "      <td>-34.526132</td>\n",
       "      <td>-58.423896</td>\n",
       "      <td>103803.789524</td>\n",
       "      <td>62.232777</td>\n",
       "      <td>2.143678</td>\n",
       "    </tr>\n",
       "    <tr>\n",
       "      <th>std</th>\n",
       "      <td>303.253195</td>\n",
       "      <td>303.253195</td>\n",
       "      <td>2.549434</td>\n",
       "      <td>2.319076</td>\n",
       "      <td>46740.374496</td>\n",
       "      <td>56.281333</td>\n",
       "      <td>1.339870</td>\n",
       "    </tr>\n",
       "    <tr>\n",
       "      <th>min</th>\n",
       "      <td>0.000000</td>\n",
       "      <td>0.000000</td>\n",
       "      <td>-38.505290</td>\n",
       "      <td>-120.740135</td>\n",
       "      <td>27.000000</td>\n",
       "      <td>0.000000</td>\n",
       "      <td>0.000000</td>\n",
       "    </tr>\n",
       "    <tr>\n",
       "      <th>25%</th>\n",
       "      <td>262.250000</td>\n",
       "      <td>262.250000</td>\n",
       "      <td>-34.608908</td>\n",
       "      <td>-58.448632</td>\n",
       "      <td>95744.500000</td>\n",
       "      <td>35.000000</td>\n",
       "      <td>1.000000</td>\n",
       "    </tr>\n",
       "    <tr>\n",
       "      <th>50%</th>\n",
       "      <td>524.500000</td>\n",
       "      <td>524.500000</td>\n",
       "      <td>-34.594705</td>\n",
       "      <td>-58.423578</td>\n",
       "      <td>102200.000000</td>\n",
       "      <td>45.000000</td>\n",
       "      <td>2.000000</td>\n",
       "    </tr>\n",
       "    <tr>\n",
       "      <th>75%</th>\n",
       "      <td>786.750000</td>\n",
       "      <td>786.750000</td>\n",
       "      <td>-34.578902</td>\n",
       "      <td>-58.395060</td>\n",
       "      <td>113000.000000</td>\n",
       "      <td>70.000000</td>\n",
       "      <td>3.000000</td>\n",
       "    </tr>\n",
       "    <tr>\n",
       "      <th>max</th>\n",
       "      <td>1049.000000</td>\n",
       "      <td>1049.000000</td>\n",
       "      <td>47.751076</td>\n",
       "      <td>-34.588875</td>\n",
       "      <td>820000.000000</td>\n",
       "      <td>700.000000</td>\n",
       "      <td>18.000000</td>\n",
       "    </tr>\n",
       "    <tr>\n",
       "      <th>Nan</th>\n",
       "      <td>0.000000</td>\n",
       "      <td>0.000000</td>\n",
       "      <td>0.000000</td>\n",
       "      <td>0.000000</td>\n",
       "      <td>0.000000</td>\n",
       "      <td>2.000000</td>\n",
       "      <td>6.000000</td>\n",
       "    </tr>\n",
       "    <tr>\n",
       "      <th>%Nan</th>\n",
       "      <td>0.000000</td>\n",
       "      <td>0.000000</td>\n",
       "      <td>0.000000</td>\n",
       "      <td>0.000000</td>\n",
       "      <td>0.000000</td>\n",
       "      <td>0.190476</td>\n",
       "      <td>0.571429</td>\n",
       "    </tr>\n",
       "  </tbody>\n",
       "</table>\n",
       "</div>"
      ],
      "text/plain": [
       "       Unnamed: 0.1   Unnamed: 0      latitud     longitud         precio   \n",
       "count   1050.000000  1050.000000  1050.000000  1050.000000    1050.000000  \\\n",
       "mean     524.500000   524.500000   -34.526132   -58.423896  103803.789524   \n",
       "std      303.253195   303.253195     2.549434     2.319076   46740.374496   \n",
       "min        0.000000     0.000000   -38.505290  -120.740135      27.000000   \n",
       "25%      262.250000   262.250000   -34.608908   -58.448632   95744.500000   \n",
       "50%      524.500000   524.500000   -34.594705   -58.423578  102200.000000   \n",
       "75%      786.750000   786.750000   -34.578902   -58.395060  113000.000000   \n",
       "max     1049.000000  1049.000000    47.751076   -34.588875  820000.000000   \n",
       "Nan        0.000000     0.000000     0.000000     0.000000       0.000000   \n",
       "%Nan       0.000000     0.000000     0.000000     0.000000       0.000000   \n",
       "\n",
       "                m2    ambientes  \n",
       "count  1048.000000  1044.000000  \n",
       "mean     62.232777     2.143678  \n",
       "std      56.281333     1.339870  \n",
       "min       0.000000     0.000000  \n",
       "25%      35.000000     1.000000  \n",
       "50%      45.000000     2.000000  \n",
       "75%      70.000000     3.000000  \n",
       "max     700.000000    18.000000  \n",
       "Nan       2.000000     6.000000  \n",
       "%Nan      0.190476     0.571429  "
      ]
     },
     "execution_count": 2,
     "metadata": {},
     "output_type": "execute_result"
    }
   ],
   "source": [
    "# Una vez descargado el archivo en Colab.\n",
    "# Leerlo con Pandas y el método read_csv\n",
    "# Una vez extraida toda la información se almacena en df\n",
    "# A partir de df y el método describe(), mostrará la descripción estadistica básica del archivo que se guardará en des\n",
    "# Crear una fila nueva llamada Nan en el DataFrame  des,\n",
    "# que indica la cantidad de datos tipo Nan que tiene cada columna.\n",
    "# Para crear una nueva fila, se utilizará el operador loc, donde se indica el nombre\n",
    "# de la nueva fila y con que valores se completará.\n",
    "# La información será de los datos faltantes df.isna().sum()\n",
    "# Crear una fila nueva llamada %Nan en el DataFrame des,\n",
    "# Esta fila se completará con los porcentajes de Nan encontrados en cada columna.\n",
    "df = pd.read_csv(\"propiedades.csv\")\n",
    "des = df.describe()\n",
    "des.loc['Nan'] = df.isna().sum()\n",
    "des.loc['%Nan'] = (df.isna().mean())*100\n",
    "des"
   ]
  },
  {
   "cell_type": "code",
   "execution_count": 3,
   "metadata": {
    "id": "yVdxZvGKFvM9"
   },
   "outputs": [
    {
     "data": {
      "text/html": [
       "<div>\n",
       "<style scoped>\n",
       "    .dataframe tbody tr th:only-of-type {\n",
       "        vertical-align: middle;\n",
       "    }\n",
       "\n",
       "    .dataframe tbody tr th {\n",
       "        vertical-align: top;\n",
       "    }\n",
       "\n",
       "    .dataframe thead th {\n",
       "        text-align: right;\n",
       "    }\n",
       "</style>\n",
       "<table border=\"1\" class=\"dataframe\">\n",
       "  <thead>\n",
       "    <tr style=\"text-align: right;\">\n",
       "      <th></th>\n",
       "      <th>Unnamed: 0.1</th>\n",
       "      <th>Unnamed: 0</th>\n",
       "      <th>fecha</th>\n",
       "      <th>latitud</th>\n",
       "      <th>longitud</th>\n",
       "      <th>url</th>\n",
       "      <th>titulo</th>\n",
       "      <th>tipo_propiedad</th>\n",
       "      <th>precio</th>\n",
       "      <th>moneda</th>\n",
       "      <th>m2</th>\n",
       "      <th>ambientes</th>\n",
       "    </tr>\n",
       "  </thead>\n",
       "  <tbody>\n",
       "    <tr>\n",
       "      <th>0</th>\n",
       "      <td>0</td>\n",
       "      <td>0</td>\n",
       "      <td>2020_10_11</td>\n",
       "      <td>-34.611270</td>\n",
       "      <td>-58.36378</td>\n",
       "      <td>https://departamento.mercadolibre.com.ar/MLA-7...</td>\n",
       "      <td>Departamento-alquiler - Puerto Madero-situar</td>\n",
       "      <td>Departamento</td>\n",
       "      <td>2900.0</td>\n",
       "      <td>USD</td>\n",
       "      <td>192.0</td>\n",
       "      <td>4.0</td>\n",
       "    </tr>\n",
       "    <tr>\n",
       "      <th>1</th>\n",
       "      <td>1</td>\n",
       "      <td>1</td>\n",
       "      <td>2020_10_11</td>\n",
       "      <td>-34.589848</td>\n",
       "      <td>-58.50942</td>\n",
       "      <td>https://departamento.mercadolibre.com.ar/MLA-7...</td>\n",
       "      <td>Oportunidad! Monoambiente A Estrenar - Alquile...</td>\n",
       "      <td>Departamento</td>\n",
       "      <td>50.0</td>\n",
       "      <td>USD</td>\n",
       "      <td>38.0</td>\n",
       "      <td>1.0</td>\n",
       "    </tr>\n",
       "    <tr>\n",
       "      <th>2</th>\n",
       "      <td>2</td>\n",
       "      <td>2</td>\n",
       "      <td>2020_10_11</td>\n",
       "      <td>-34.605970</td>\n",
       "      <td>-34.60597</td>\n",
       "      <td>https://departamento.mercadolibre.com.ar/MLA-8...</td>\n",
       "      <td>Alquiler Temporario De Lujo 4/p Hospital Itali...</td>\n",
       "      <td>Departamento</td>\n",
       "      <td>101866.0</td>\n",
       "      <td>ARS</td>\n",
       "      <td>57.0</td>\n",
       "      <td>1.0</td>\n",
       "    </tr>\n",
       "    <tr>\n",
       "      <th>3</th>\n",
       "      <td>3</td>\n",
       "      <td>3</td>\n",
       "      <td>2020_10_11</td>\n",
       "      <td>-34.590656</td>\n",
       "      <td>-58.44873</td>\n",
       "      <td>https://departamento.mercadolibre.com.ar/MLA-8...</td>\n",
       "      <td>Excelente Departamento 3 Ambientes (2 Cuartos)...</td>\n",
       "      <td>Departamento</td>\n",
       "      <td>105000.0</td>\n",
       "      <td>ARS</td>\n",
       "      <td>60.0</td>\n",
       "      <td>3.0</td>\n",
       "    </tr>\n",
       "    <tr>\n",
       "      <th>4</th>\n",
       "      <td>4</td>\n",
       "      <td>4</td>\n",
       "      <td>2020_10_11</td>\n",
       "      <td>-34.624084</td>\n",
       "      <td>-58.38989</td>\n",
       "      <td>https://departamento.mercadolibre.com.ar/MLA-8...</td>\n",
       "      <td>Departamentos Alquil Temporario Centro Cap Fed...</td>\n",
       "      <td>Departamento</td>\n",
       "      <td>102100.0</td>\n",
       "      <td>ARS</td>\n",
       "      <td>64.0</td>\n",
       "      <td>3.0</td>\n",
       "    </tr>\n",
       "  </tbody>\n",
       "</table>\n",
       "</div>"
      ],
      "text/plain": [
       "   Unnamed: 0.1  Unnamed: 0       fecha    latitud  longitud   \n",
       "0             0           0  2020_10_11 -34.611270 -58.36378  \\\n",
       "1             1           1  2020_10_11 -34.589848 -58.50942   \n",
       "2             2           2  2020_10_11 -34.605970 -34.60597   \n",
       "3             3           3  2020_10_11 -34.590656 -58.44873   \n",
       "4             4           4  2020_10_11 -34.624084 -58.38989   \n",
       "\n",
       "                                                 url   \n",
       "0  https://departamento.mercadolibre.com.ar/MLA-7...  \\\n",
       "1  https://departamento.mercadolibre.com.ar/MLA-7...   \n",
       "2  https://departamento.mercadolibre.com.ar/MLA-8...   \n",
       "3  https://departamento.mercadolibre.com.ar/MLA-8...   \n",
       "4  https://departamento.mercadolibre.com.ar/MLA-8...   \n",
       "\n",
       "                                              titulo tipo_propiedad    precio   \n",
       "0       Departamento-alquiler - Puerto Madero-situar   Departamento    2900.0  \\\n",
       "1  Oportunidad! Monoambiente A Estrenar - Alquile...   Departamento      50.0   \n",
       "2  Alquiler Temporario De Lujo 4/p Hospital Itali...   Departamento  101866.0   \n",
       "3  Excelente Departamento 3 Ambientes (2 Cuartos)...   Departamento  105000.0   \n",
       "4  Departamentos Alquil Temporario Centro Cap Fed...   Departamento  102100.0   \n",
       "\n",
       "  moneda     m2  ambientes  \n",
       "0    USD  192.0        4.0  \n",
       "1    USD   38.0        1.0  \n",
       "2    ARS   57.0        1.0  \n",
       "3    ARS   60.0        3.0  \n",
       "4    ARS   64.0        3.0  "
      ]
     },
     "execution_count": 3,
     "metadata": {},
     "output_type": "execute_result"
    }
   ],
   "source": [
    "# Muestra las 5 primeras filas del DataFrame df\n",
    "df.head()"
   ]
  },
  {
   "cell_type": "code",
   "execution_count": 4,
   "metadata": {
    "id": "fyOu8suvF8cP"
   },
   "outputs": [],
   "source": [
    "# Eliminar todas las filas de la tabla las cuales el campo \"m2\" o \"ambientes\" se encuentre \n",
    "#con datos faltantes\n",
    "# Se hace una copia\n",
    "\n",
    "df_clean = df.copy()\n",
    "\n",
    "# Para eliminar los datos faltantes, se implementará el método dropna, indicando \n",
    "# La columna a borrar\n",
    "df_clean.dropna(subset=['m2'], inplace=True)\n",
    "df_clean.dropna(subset=['ambientes'], inplace=True)\n",
    "\n",
    "# Otra manera de obtener el mismo resultado:\n",
    "#df_clean = df[df['m2'].notna()]\n",
    "#df_clean = df_clean[df_clean['ambientes'].notna()]"
   ]
  },
  {
   "cell_type": "code",
   "execution_count": 5,
   "metadata": {
    "id": "bjzK91EoLfJZ"
   },
   "outputs": [
    {
     "data": {
      "text/plain": [
       "(1044, 12)"
      ]
     },
     "execution_count": 5,
     "metadata": {},
     "output_type": "execute_result"
    }
   ],
   "source": [
    "# ¿Cuántos datos quedaron para analizar?\n",
    "# (filas, columnas)\n",
    "df_clean.shape"
   ]
  },
  {
   "cell_type": "markdown",
   "metadata": {
    "id": "l17CbKBnLTbu"
   },
   "source": [
    "## Fin de la limpieza\n",
    "Se finalizó la limpieza sacando aquellas filas que no eran de interes, se puede observar que la cantidad de filas hasta el momento es menor a la cantidad de filas con la que se comnezó el análisis"
   ]
  },
  {
   "cell_type": "code",
   "execution_count": 6,
   "metadata": {
    "id": "XPQ2CtCGL3Zn"
   },
   "outputs": [
    {
     "name": "stdout",
     "output_type": "stream",
     "text": [
      "Cantidad de datos en observacion: 1044\n"
     ]
    }
   ],
   "source": [
    "print('Cantidad de datos en observacion:', df_clean.shape[0])"
   ]
  },
  {
   "cell_type": "markdown",
   "metadata": {
    "id": "8T_3enyVHYJa"
   },
   "source": [
    "# Explorar datos\n",
    "<img src=\"https://raw.githubusercontent.com/InoveAlumnos/dataset_analytics_python/master/images/Pipeline3.png\" width=\"1000\" align=\"middle\">"
   ]
  },
  {
   "cell_type": "code",
   "execution_count": 7,
   "metadata": {
    "id": "5OZpKcO8Mh3A"
   },
   "outputs": [
    {
     "data": {
      "text/html": [
       "<div>\n",
       "<style scoped>\n",
       "    .dataframe tbody tr th:only-of-type {\n",
       "        vertical-align: middle;\n",
       "    }\n",
       "\n",
       "    .dataframe tbody tr th {\n",
       "        vertical-align: top;\n",
       "    }\n",
       "\n",
       "    .dataframe thead th {\n",
       "        text-align: right;\n",
       "    }\n",
       "</style>\n",
       "<table border=\"1\" class=\"dataframe\">\n",
       "  <thead>\n",
       "    <tr style=\"text-align: right;\">\n",
       "      <th></th>\n",
       "      <th>Unnamed: 0.1</th>\n",
       "      <th>Unnamed: 0</th>\n",
       "      <th>fecha</th>\n",
       "      <th>latitud</th>\n",
       "      <th>longitud</th>\n",
       "      <th>url</th>\n",
       "      <th>titulo</th>\n",
       "      <th>tipo_propiedad</th>\n",
       "      <th>precio</th>\n",
       "      <th>moneda</th>\n",
       "      <th>m2</th>\n",
       "      <th>ambientes</th>\n",
       "    </tr>\n",
       "  </thead>\n",
       "  <tbody>\n",
       "    <tr>\n",
       "      <th>0</th>\n",
       "      <td>0</td>\n",
       "      <td>0</td>\n",
       "      <td>2020_10_11</td>\n",
       "      <td>-34.611270</td>\n",
       "      <td>-58.36378</td>\n",
       "      <td>https://departamento.mercadolibre.com.ar/MLA-7...</td>\n",
       "      <td>Departamento-alquiler - Puerto Madero-situar</td>\n",
       "      <td>Departamento</td>\n",
       "      <td>2900.0</td>\n",
       "      <td>USD</td>\n",
       "      <td>192.0</td>\n",
       "      <td>4.0</td>\n",
       "    </tr>\n",
       "    <tr>\n",
       "      <th>1</th>\n",
       "      <td>1</td>\n",
       "      <td>1</td>\n",
       "      <td>2020_10_11</td>\n",
       "      <td>-34.589848</td>\n",
       "      <td>-58.50942</td>\n",
       "      <td>https://departamento.mercadolibre.com.ar/MLA-7...</td>\n",
       "      <td>Oportunidad! Monoambiente A Estrenar - Alquile...</td>\n",
       "      <td>Departamento</td>\n",
       "      <td>50.0</td>\n",
       "      <td>USD</td>\n",
       "      <td>38.0</td>\n",
       "      <td>1.0</td>\n",
       "    </tr>\n",
       "    <tr>\n",
       "      <th>2</th>\n",
       "      <td>2</td>\n",
       "      <td>2</td>\n",
       "      <td>2020_10_11</td>\n",
       "      <td>-34.605970</td>\n",
       "      <td>-34.60597</td>\n",
       "      <td>https://departamento.mercadolibre.com.ar/MLA-8...</td>\n",
       "      <td>Alquiler Temporario De Lujo 4/p Hospital Itali...</td>\n",
       "      <td>Departamento</td>\n",
       "      <td>101866.0</td>\n",
       "      <td>ARS</td>\n",
       "      <td>57.0</td>\n",
       "      <td>1.0</td>\n",
       "    </tr>\n",
       "    <tr>\n",
       "      <th>3</th>\n",
       "      <td>3</td>\n",
       "      <td>3</td>\n",
       "      <td>2020_10_11</td>\n",
       "      <td>-34.590656</td>\n",
       "      <td>-58.44873</td>\n",
       "      <td>https://departamento.mercadolibre.com.ar/MLA-8...</td>\n",
       "      <td>Excelente Departamento 3 Ambientes (2 Cuartos)...</td>\n",
       "      <td>Departamento</td>\n",
       "      <td>105000.0</td>\n",
       "      <td>ARS</td>\n",
       "      <td>60.0</td>\n",
       "      <td>3.0</td>\n",
       "    </tr>\n",
       "    <tr>\n",
       "      <th>4</th>\n",
       "      <td>4</td>\n",
       "      <td>4</td>\n",
       "      <td>2020_10_11</td>\n",
       "      <td>-34.624084</td>\n",
       "      <td>-58.38989</td>\n",
       "      <td>https://departamento.mercadolibre.com.ar/MLA-8...</td>\n",
       "      <td>Departamentos Alquil Temporario Centro Cap Fed...</td>\n",
       "      <td>Departamento</td>\n",
       "      <td>102100.0</td>\n",
       "      <td>ARS</td>\n",
       "      <td>64.0</td>\n",
       "      <td>3.0</td>\n",
       "    </tr>\n",
       "  </tbody>\n",
       "</table>\n",
       "</div>"
      ],
      "text/plain": [
       "   Unnamed: 0.1  Unnamed: 0       fecha    latitud  longitud   \n",
       "0             0           0  2020_10_11 -34.611270 -58.36378  \\\n",
       "1             1           1  2020_10_11 -34.589848 -58.50942   \n",
       "2             2           2  2020_10_11 -34.605970 -34.60597   \n",
       "3             3           3  2020_10_11 -34.590656 -58.44873   \n",
       "4             4           4  2020_10_11 -34.624084 -58.38989   \n",
       "\n",
       "                                                 url   \n",
       "0  https://departamento.mercadolibre.com.ar/MLA-7...  \\\n",
       "1  https://departamento.mercadolibre.com.ar/MLA-7...   \n",
       "2  https://departamento.mercadolibre.com.ar/MLA-8...   \n",
       "3  https://departamento.mercadolibre.com.ar/MLA-8...   \n",
       "4  https://departamento.mercadolibre.com.ar/MLA-8...   \n",
       "\n",
       "                                              titulo tipo_propiedad    precio   \n",
       "0       Departamento-alquiler - Puerto Madero-situar   Departamento    2900.0  \\\n",
       "1  Oportunidad! Monoambiente A Estrenar - Alquile...   Departamento      50.0   \n",
       "2  Alquiler Temporario De Lujo 4/p Hospital Itali...   Departamento  101866.0   \n",
       "3  Excelente Departamento 3 Ambientes (2 Cuartos)...   Departamento  105000.0   \n",
       "4  Departamentos Alquil Temporario Centro Cap Fed...   Departamento  102100.0   \n",
       "\n",
       "  moneda     m2  ambientes  \n",
       "0    USD  192.0        4.0  \n",
       "1    USD   38.0        1.0  \n",
       "2    ARS   57.0        1.0  \n",
       "3    ARS   60.0        3.0  \n",
       "4    ARS   64.0        3.0  "
      ]
     },
     "execution_count": 7,
     "metadata": {},
     "output_type": "execute_result"
    }
   ],
   "source": [
    "# Muestra las 5 primeras filas del DataFrame df_clean\n",
    "df_clean.head()"
   ]
  },
  {
   "cell_type": "markdown",
   "metadata": {
    "id": "91gOMQg2Mkrd"
   },
   "source": [
    "Se puede observar que hay alquileres en dolares, solo nos quedaremos con aquellos alquileres en pesos"
   ]
  },
  {
   "cell_type": "code",
   "execution_count": 8,
   "metadata": {
    "id": "jzz8F7VgHTHH"
   },
   "outputs": [
    {
     "name": "stdout",
     "output_type": "stream",
     "text": [
      "Cantidad de datos en observacion: 928\n"
     ]
    }
   ],
   "source": [
    "# Filtramos el dataframe, solos nos quedamos con los alquileres en pesos\n",
    "# df_ars, almacena el DataFrame filtrado\n",
    "# Para filtrad el DataFrame llamado df_clean se debe acceder a el con corchetes\n",
    "# Entre los corcheter especificar la condición de filtrado \n",
    "# --> Accede a la columna moneda df_clean['moneda']\n",
    "# Y para cada valor va a comparar si es igual a 'ARS'\n",
    "df_ars = df_clean[df_clean['moneda'] == 'ARS']\n",
    "\n",
    "# shape informa de la cantidad de filas y columnas y en la \n",
    "# ubicación 0 está la información de las filas.\n",
    "print('Cantidad de datos en observacion:', df_ars.shape[0])"
   ]
  },
  {
   "cell_type": "code",
   "execution_count": 9,
   "metadata": {
    "id": "v0p6e95WMscW"
   },
   "outputs": [
    {
     "data": {
      "image/png": "[encoded data removed]",
      "text/plain": [
       "<Figure size 1600x900 with 1 Axes>"
      ]
     },
     "metadata": {},
     "output_type": "display_data"
    }
   ],
   "source": [
    "# Renderizamos el gráfico utilizando el diagrama de cajas\n",
    "#df_ars.boxplot(column=['m2'])\n",
    "\n",
    "# Se crea el espacio para dibujar con fig = plt.figure(figsize=(16, 9))\n",
    "# Se crea el espacio para el gráfico\n",
    "# sns alias Seaborn\n",
    "# accede al método boxplot(), donde se le indica los valores a representar en el eje de las x, en este caso, \n",
    "# los valores de la columna m2\n",
    "# ax=ax, es un objeto Axes sobre el que se dibuja el gráfico; de lo contrario, utiliza los ejes actuales.\n",
    "# ax.grid('dashed') para ver la grilla de fondo especificando el color\n",
    "\n",
    "fig = plt.figure(figsize=(16, 9))\n",
    "ax = fig.add_subplot()\n",
    "sns.boxplot(x=df_ars['m2'], ax=ax, color='darkcyan')\n",
    "ax.grid('dashed')"
   ]
  },
  {
   "cell_type": "markdown",
   "metadata": {
    "id": "cKbXNhC6M5x8"
   },
   "source": [
    "Se puede observar que hay muchos alquileres \"outliers\", es decir que se escapan de la tendencia. Filtraremos aquellos que no aportan al análisis"
   ]
  },
  {
   "cell_type": "code",
   "execution_count": 10,
   "metadata": {
    "id": "02AnTpR1IPHl"
   },
   "outputs": [],
   "source": [
    "# Nos quedamos solamente con los deparamentos menor a 200m2 y mayor a 50m2\n",
    "# Utilizamos el concepto de \"máscara\" tal cual fue visto en Numpy\n",
    "# para filtrar el dataframe de propiedads deseado\n",
    "propiedades = df_ars[(df_ars['m2'] < 200) & (df_ars['m2'] > 50)]"
   ]
  },
  {
   "cell_type": "code",
   "execution_count": 11,
   "metadata": {
    "id": "UNO4xVXjNGZW"
   },
   "outputs": [
    {
     "name": "stdout",
     "output_type": "stream",
     "text": [
      "Cantidad de datos en observacion: 323\n"
     ]
    }
   ],
   "source": [
    "print('Cantidad de datos en observacion:', propiedades.shape[0])"
   ]
  },
  {
   "cell_type": "code",
   "execution_count": 12,
   "metadata": {
    "id": "y4BHiuUuJIBg"
   },
   "outputs": [
    {
     "data": {
      "image/png": "[encoded data removed]",
      "text/plain": [
       "<Figure size 640x480 with 1 Axes>"
      ]
     },
     "metadata": {},
     "output_type": "display_data"
    }
   ],
   "source": [
    "# Graficar la tendencia\n",
    "sns.scatterplot(x=propiedades['m2'], y=propiedades['precio'], color='b', label='precio vs m2')\n",
    "plt.show()"
   ]
  },
  {
   "cell_type": "markdown",
   "metadata": {
    "id": "APXYUcIdiDHh"
   },
   "source": [
    "# Entrenar modelo\n",
    "<img src=\"https://raw.githubusercontent.com/InoveAlumnos/dataset_analytics_python/master/images/Pipeline4.png\" width=\"1000\" align=\"middle\">"
   ]
  },
  {
   "cell_type": "markdown",
   "metadata": {
    "id": "8y9xIL_0iE5N"
   },
   "source": [
    "El primer paso es obtener los datos que serán la entrada del sistema (X) y los datos que serán la salida del modelo estimador (y)"
   ]
  },
  {
   "cell_type": "code",
   "execution_count": 13,
   "metadata": {
    "id": "eyrysoOyiMFV"
   },
   "outputs": [],
   "source": [
    "# Para los valores de X se emplea doble corchete porque necesita la matriz en dos dimensiones\n",
    "X = propiedades[['m2', 'ambientes']].values\n",
    "\n",
    "# Para los valores de y se emplea un corchete porque necesita la matriz en una dimensiones\n",
    "y = propiedades['precio'].values"
   ]
  },
  {
   "cell_type": "markdown",
   "metadata": {
    "id": "HgPxfYKBiO-u"
   },
   "source": [
    "Siguiente paso es dividir el dataset en entrenamiento (train) y evaluación (test). Utilizaremos el criterio 70%30%"
   ]
  },
  {
   "cell_type": "code",
   "execution_count": 14,
   "metadata": {
    "id": "B7h8kmBTTAh2"
   },
   "outputs": [],
   "source": [
    "# Se importa la herramienta de sklearn.model_selectionl como train_test_split\n",
    "from sklearn.model_selection import train_test_split\n",
    "\n",
    "# Fijamos un \"random_state\" constante para que siempre el dataset se parta de la misma forma\n",
    "# para poder repetir los ensayos\n",
    "# Ojo! Los dataset de train y test son array numpy\n",
    "# Se importa la herramienta de la libreria  train_test_split()\n",
    "# Necesita los valores de X e y\n",
    "# test_size=0.3, permite indicar el porcentaje de valores para evaluar, equivalente a un 30%\n",
    "# random_state=42,  es un número fijo que utilizan comunmente en documentación, significa que para cada ejecución del algoritmo se genere nuevos valores aleatorios\n",
    "# y los conjuntos de datos de entrenamiento y pruebas serán diferentes\n",
    "\n",
    "X_train, X_test, y_train, y_test = train_test_split(X, y, test_size=0.3, random_state=42)"
   ]
  },
  {
   "cell_type": "markdown",
   "metadata": {
    "id": "UdIRSo5RoW2_"
   },
   "source": [
    "#### Crear un modelo de regresión multilineallineal"
   ]
  },
  {
   "cell_type": "code",
   "execution_count": 15,
   "metadata": {
    "id": "ftYRtP0kLk4S"
   },
   "outputs": [],
   "source": [
    "# Se importa la herramienta de sklearn.linear_model como LinearRegression\n",
    "from sklearn.linear_model import LinearRegression\n",
    "\n",
    "# Se crea el objeto lr a partir que significa Regresión lineal a partir de la clase LinearRegression()\n",
    "lr = LinearRegression()\n",
    "\n",
    "\n",
    "# Del objeto lr se puede acceder al método fit con la notación del punto\n",
    "# Necesita los valores de X haciendole un ajuste con reshape para que haga el entrenamiento junto a los \n",
    "# valores de y\n",
    "lr.fit(X_train, y_train)\n",
    "\n",
    "# Luego del objeto lr se puede acceder al método predict() que se encarga de hacer las precciones para cada\n",
    "# valor de X\n",
    "y_hat= lr.predict(X_test)"
   ]
  },
  {
   "cell_type": "markdown",
   "metadata": {
    "id": "L65NqXhOohII"
   },
   "source": [
    "# Validar modelo\n",
    "<img src=\"https://raw.githubusercontent.com/InoveAlumnos/dataset_analytics_python/master/images/Pipeline5.png\" width=\"1000\" align=\"middle\">"
   ]
  },
  {
   "cell_type": "code",
   "execution_count": 16,
   "metadata": {
    "id": "r21RklSQpElK"
   },
   "outputs": [
    {
     "name": "stdout",
     "output_type": "stream",
     "text": [
      "Coeficiente de determinación: 0.40\n"
     ]
    }
   ],
   "source": [
    "# Es un coeficiente de determinación, determina la capacidad de un modelo para predecir futuros resultados. \n",
    "# El mejor resultado posible es 1.0\n",
    "# Fuente: https://scikit-learn.org/stable/modules/generated/sklearn.metrics.r2_score.html\n",
    "# Se importa la herramienta de sklearn.metrics como r2_score\n",
    "from sklearn.metrics import r2_score\n",
    "\n",
    "# En este caso, ya que se trata de una regresión lineal puedo relacinonar el\n",
    "# índice R2 con el coeficiente de correlación lineal.\n",
    " # value:.2f --> :.2f, significa que tendrá dos decimales\n",
    "value = r2_score(y_test, y_hat)\n",
    "print(f\"Coeficiente de determinación: {value:.2f}\")"
   ]
  },
  {
   "cell_type": "markdown",
   "metadata": {
    "id": "C1Ndkl6uopBq"
   },
   "source": [
    "# Utilizar modelo\n",
    "<img src=\"https://raw.githubusercontent.com/InoveAlumnos/dataset_analytics_python/master/images/Pipeline6.png\" width=\"1000\" align=\"middle\">"
   ]
  },
  {
   "cell_type": "code",
   "execution_count": 17,
   "metadata": {
    "id": "5Cs3XSZhRfs1"
   },
   "outputs": [
    {
     "data": {
      "text/plain": [
       "array([131874.07778094])"
      ]
     },
     "execution_count": 17,
     "metadata": {},
     "output_type": "execute_result"
    }
   ],
   "source": [
    "# Modelo de Regresión Multilineal\n",
    "# El array debe tener [['m2', 'ambientes']]\n",
    "m2 = np.array([[100, 4]])\n",
    "y_hat_prueba = lr.predict(m2)\n",
    "y_hat_prueba"
   ]
  },
  {
   "cell_type": "markdown",
   "metadata": {
    "id": "HVcz7djcpypK"
   },
   "source": [
    "# Conclusión\n",
    "<img src=\"https://raw.githubusercontent.com/InoveAlumnos/dataset_analytics_python/master/images/Pipeline7.png\" width=\"1000\" align=\"middle\">"
   ]
  },
  {
   "cell_type": "markdown",
   "metadata": {
    "id": "hLw3dwRQKmYI"
   },
   "source": [
    "En este ejemplo de propiedades se puede notar que agregar más variables/features en consideración que estén vinculados con la salida (target, precio) puede mejorar el modelo, pero como también no. Lo importante es armar los modelos lineal y multilineal para comparar resultados. Buscando la mejor opción en cuánto a valor final determinado por las métricas."
   ]
  }
 ],
 "metadata": {
  "colab": {
   "provenance": []
  },
  "kernelspec": {
   "display_name": "Python 3",
   "language": "python",
   "name": "python3"
  },
  "language_info": {
   "codemirror_mode": {
    "name": "ipython",
    "version": 3
   },
   "file_extension": ".py",
   "mimetype": "text/x-python",
   "name": "python",
   "nbconvert_exporter": "python",
   "pygments_lexer": "ipython3",
   "version": "3.11.3"
  }
 },
 "nbformat": 4,
 "nbformat_minor": 4
}
